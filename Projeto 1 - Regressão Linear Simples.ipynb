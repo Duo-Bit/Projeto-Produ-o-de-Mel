{
 "cells": [
  {
   "cell_type": "markdown",
   "metadata": {},
   "source": [
    "![title](logo.png)"
   ]
  },
  {
   "cell_type": "markdown",
   "metadata": {},
   "source": [
    "# Projeto 1 - Produção De Mel\n",
    "\n",
    "Agora que você aprendeu como a regressão linear funciona, vamos testá-la em um exemplo de dados do mundo real.\n",
    "\n",
    "Como você já deve ter ouvido, as abelhas estão em um estado precário agora. Você pode ter visto artigos sobre o declínio da população de abelhas por várias razões. Você quer investigar esse declínio e como as tendências do passado predizem o futuro das abelhas."
   ]
  },
  {
   "cell_type": "markdown",
   "metadata": {},
   "source": [
    "# Tarefa 1\n",
    "Nós carregamos em um DataFrame para você sobre a produção de mel nos Estados Unidos da Kaggle.\n",
    "Use <strong>.head()</strong> para ter uma noção de como esse DataFrame está estruturado."
   ]
  },
  {
   "cell_type": "code",
   "execution_count": null,
   "metadata": {},
   "outputs": [],
   "source": [
    "import seaborn as sns\n",
    "import pandas as pd\n",
    "import matplotlib.pyplot as plt\n",
    "import numpy as np\n",
    "from sklearn import linear_model\n",
    "\n",
    "df = pd.read_csv('honeyproduction.csv')\n",
    "\n",
    "#seu código vai aqui"
   ]
  },
  {
   "cell_type": "markdown",
   "metadata": {},
   "source": [
    "# Tarefa 2\n",
    "\n",
    "Por enquanto, nos preocupamos com a produção total de mel por ano. Use o método .groupby() fornecido pela biblioteca pandas para obter a média de 'totalprod' por ano.\n",
    "\n",
    "Armazene isso em uma variável chamada prod_per_year."
   ]
  },
  {
   "cell_type": "code",
   "execution_count": null,
   "metadata": {},
   "outputs": [],
   "source": [
    "prod_per_year = df.#seu código vai aqui\n",
    "prod_per_year"
   ]
  },
  {
   "cell_type": "markdown",
   "metadata": {},
   "source": [
    "# Tarefa 3\n",
    "Crie uma variável chamada X que é a coluna 'years' neste DataFrame 'prod_per_year'.\n",
    "\n",
    "Após a criação X, precisaremos reformulá-lo para obtê-lo no formato correto, usando este comando:\n",
    "\n",
    "X = X.values.reshape(-1, 1)"
   ]
  },
  {
   "cell_type": "code",
   "execution_count": null,
   "metadata": {},
   "outputs": [],
   "source": [
    "X = #seu código vai aqui\n",
    "X = #seu código vai aqui\n",
    "print(X)"
   ]
  },
  {
   "cell_type": "markdown",
   "metadata": {},
   "source": [
    "# Tarefa 4\n",
    "Crie uma variável chamada y que é a coluna 'totalprod' no dataset 'prod_per_year'."
   ]
  },
  {
   "cell_type": "code",
   "execution_count": null,
   "metadata": {},
   "outputs": [],
   "source": [
    "y = #seu código vai aqui\n",
    "print(y)"
   ]
  },
  {
   "cell_type": "markdown",
   "metadata": {},
   "source": [
    "# Tarefa 5\n",
    "Usando plt.scatter(), trace y vs X como um gráfico de dispersão.\n",
    "\n",
    "Exiba o gráfico usando plt.show().\n",
    "\n",
    "Você consegue ver uma relação vagamente linear entre essas variáveis?"
   ]
  },
  {
   "cell_type": "code",
   "execution_count": null,
   "metadata": {},
   "outputs": [],
   "source": [
    "#seu código vai aqui\n",
    "#seu código vai aqui"
   ]
  },
  {
   "cell_type": "markdown",
   "metadata": {},
   "source": [
    "# Tarefa 6\n",
    "Crie um modelo de regressão linear a partir do scikit-learn e chame-o 'regr'.\n",
    "\n",
    "Use o construtor LinearRegression() do módulo linear_model para fazer isso."
   ]
  },
  {
   "cell_type": "code",
   "execution_count": null,
   "metadata": {},
   "outputs": [],
   "source": [
    "regr = #seu código vai aqui"
   ]
  },
  {
   "cell_type": "markdown",
   "metadata": {},
   "source": [
    "# Tarefa 7\n",
    "Ajuste o modelo aos dados usando .fit().\n",
    "Você pode alimentar seu regr modelo passando X como um parâmetro de .fit()."
   ]
  },
  {
   "cell_type": "code",
   "execution_count": null,
   "metadata": {},
   "outputs": [],
   "source": [
    "regr.#seu código vai aqui"
   ]
  },
  {
   "cell_type": "markdown",
   "metadata": {},
   "source": [
    "# Tarefa 8\n",
    "Depois de ajustar o modelo, imprima a inclinação da linha (armazenada em uma lista chamada regr.coef_) e a interceptação da linha ( regr.intercept_)."
   ]
  },
  {
   "cell_type": "code",
   "execution_count": null,
   "metadata": {},
   "outputs": [],
   "source": [
    "print(#seu código vai aqui)\n",
    "print(#seu código vai aqui)"
   ]
  },
  {
   "cell_type": "markdown",
   "metadata": {},
   "source": [
    "# Tarefa 9\n",
    "Crie uma lista chamada y_predict que são as previsões que seu modelo 'regr' faria nos dados X."
   ]
  },
  {
   "cell_type": "code",
   "execution_count": null,
   "metadata": {},
   "outputs": [],
   "source": [
    "y_predict = #seu código vai aqui\n",
    "print(y_predict)"
   ]
  },
  {
   "cell_type": "markdown",
   "metadata": {},
   "source": [
    "# Tarefa 10\n",
    "Plot 'y_predict' contra 'X' como uma linha, no topo do seu gráfico de dispersão usando plt.plot().\n",
    "\n",
    "Certifique-se de chamar plt.show() depois de traçar a linha."
   ]
  },
  {
   "cell_type": "code",
   "execution_count": null,
   "metadata": {},
   "outputs": [],
   "source": [
    "plt.scatter(#seu código vai aqui)\n",
    "plt.plot(#seu código vai aqui)\n",
    "#seu código vai aqui"
   ]
  },
  {
   "cell_type": "markdown",
   "metadata": {},
   "source": [
    "# Tarefa 11\n",
    "Então, parece que a produção de mel está em declínio, de acordo com esse modelo linear. Vamos prever como será o ano 2050 em termos de produção de mel.\n",
    "\n",
    "Nosso dataset para no ano 2013, então vamos criar um array NumPy chamado X_future que é o intervalo de 2013 a 2050. \n",
    "Como exemplo, o código abaixo faz um array NumPy com os números de 1 a 10\n",
    "\n",
    "<strong>nums = np.array(range(1, 11))</strong>\n",
    "\n",
    "Depois de criar esse array, precisamos reformulá-lo para o scikit-learn.\n",
    "\n",
    "<strong>X_future = X_future.reshape(-1, 1)</strong>"
   ]
  },
  {
   "cell_type": "code",
   "execution_count": null,
   "metadata": {},
   "outputs": [],
   "source": [
    "X_future = np.array(range(#seu código vai aqui))\n",
    "X_future = #seu código vai aqui"
   ]
  },
  {
   "cell_type": "markdown",
   "metadata": {},
   "source": [
    "# Tarefa 12\n",
    "Crie uma lista chamada future_predict que são os valores y que seu modelo 'regr' poderia prever para os valores de X_future."
   ]
  },
  {
   "cell_type": "code",
   "execution_count": null,
   "metadata": {},
   "outputs": [],
   "source": [
    "future_predict = #seu código vai aqui"
   ]
  },
  {
   "cell_type": "markdown",
   "metadata": {},
   "source": [
    "# Tarefa 13\n",
    "* Plot 'y_predict' contra 'X'\n",
    "* Plot future_predict contra X_future.\n",
    "\n",
    "Quanto mel será produzido no ano de 2050, de acordo com isso?"
   ]
  },
  {
   "cell_type": "code",
   "execution_count": null,
   "metadata": {},
   "outputs": [],
   "source": [
    "plt.scatter(#seu código vai aqui)\n",
    "plt.plot(#seu código vai aqui)\n",
    "plt.plot(#seu código vai aqui)\n",
    "#seu código vai aqui"
   ]
  },
  {
   "cell_type": "markdown",
   "metadata": {},
   "source": [
    "# Parabéns\n",
    "Felicitações por concluir nosso primeiro projeto, mas ainda é só o inicio, há muito por vir!\n",
    "### Caso você não consega realizar alguma tarefa olhe a solução do projeto."
   ]
  }
 ],
 "metadata": {
  "kernelspec": {
   "display_name": "Python 3",
   "language": "python",
   "name": "python3"
  },
  "language_info": {
   "codemirror_mode": {
    "name": "ipython",
    "version": 3
   },
   "file_extension": ".py",
   "mimetype": "text/x-python",
   "name": "python",
   "nbconvert_exporter": "python",
   "pygments_lexer": "ipython3",
   "version": "3.6.5"
  }
 },
 "nbformat": 4,
 "nbformat_minor": 2
}
